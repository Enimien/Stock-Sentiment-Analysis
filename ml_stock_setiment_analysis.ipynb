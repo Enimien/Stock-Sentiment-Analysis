{
  "cells": [
    {
      "cell_type": "markdown",
      "metadata": {
        "id": "IhS6o3azauTZ"
      },
      "source": [
        "# **Stock Sentimental Analysis Using Machine Learning Models:**\n",
        "\n",
        "**Import Libraries:** Import necessary libraries like pandas, nltk, sklearn, imblearn, and streamlit.\n",
        "Load and Preprocess Data: Load your data, preprocess text by lowercasing, removing stop words, and lemmatizing.\n",
        "\n",
        "**Feature Extraction:** Use TfidfVectorizer to convert text into numerical features.\n",
        "Data Splitting and Balancing: Split data into training and testing sets. Balance the training set using SMOTE to address class imbalance.  \n",
        "\n",
        "**Model Training:** Train different classification models (Logistic Regression, Naive Bayes, SVM) on the balanced training data.  \n",
        "\n",
        "**Streamlit App:**\n",
        "Create a title for your app.\n",
        "Get user input using st.text_input.\n",
        "Preprocess user input.\n",
        "Transform user input into features using the same vectorizer.\n",
        "Make predictions using each trained model and display the results."
      ]
    },
    {
      "cell_type": "code",
      "execution_count": 1,
      "metadata": {
        "colab": {
          "base_uri": "https://localhost:8080/"
        },
        "id": "xThhSfn0TJ95",
        "outputId": "0f0a1e3b-b2c2-4e51-dd09-e7cd46d8ffa7"
      },
      "outputs": [
        {
          "name": "stdout",
          "output_type": "stream",
          "text": [
            "Requirement already satisfied: scikit-learn in c:\\users\\enimi\\anaconda3\\envs\\dev\\lib\\site-packages (1.4.2)\n",
            "Requirement already satisfied: pandas in c:\\users\\enimi\\anaconda3\\envs\\dev\\lib\\site-packages (2.2.1)\n",
            "Requirement already satisfied: nltk in c:\\users\\enimi\\anaconda3\\envs\\dev\\lib\\site-packages (3.8.1)\n",
            "Requirement already satisfied: streamlit in c:\\users\\enimi\\anaconda3\\envs\\dev\\lib\\site-packages (1.32.0)\n",
            "Requirement already satisfied: imbalanced-learn in c:\\users\\enimi\\anaconda3\\envs\\dev\\lib\\site-packages (0.11.0)\n",
            "Requirement already satisfied: numpy>=1.19.5 in c:\\users\\enimi\\anaconda3\\envs\\dev\\lib\\site-packages (from scikit-learn) (1.26.4)\n",
            "Requirement already satisfied: scipy>=1.6.0 in c:\\users\\enimi\\anaconda3\\envs\\dev\\lib\\site-packages (from scikit-learn) (1.13.0)\n",
            "Requirement already satisfied: joblib>=1.2.0 in c:\\users\\enimi\\anaconda3\\envs\\dev\\lib\\site-packages (from scikit-learn) (1.4.0)\n",
            "Requirement already satisfied: threadpoolctl>=2.0.0 in c:\\users\\enimi\\anaconda3\\envs\\dev\\lib\\site-packages (from scikit-learn) (2.2.0)\n",
            "Requirement already satisfied: python-dateutil>=2.8.2 in c:\\users\\enimi\\anaconda3\\envs\\dev\\lib\\site-packages (from pandas) (2.8.2)\n",
            "Requirement already satisfied: pytz>=2020.1 in c:\\users\\enimi\\anaconda3\\envs\\dev\\lib\\site-packages (from pandas) (2024.1)\n",
            "Requirement already satisfied: tzdata>=2022.7 in c:\\users\\enimi\\anaconda3\\envs\\dev\\lib\\site-packages (from pandas) (2023.3)\n",
            "Requirement already satisfied: click in c:\\users\\enimi\\anaconda3\\envs\\dev\\lib\\site-packages (from nltk) (8.1.7)\n",
            "Requirement already satisfied: regex>=2021.8.3 in c:\\users\\enimi\\anaconda3\\envs\\dev\\lib\\site-packages (from nltk) (2023.10.3)\n",
            "Requirement already satisfied: tqdm in c:\\users\\enimi\\anaconda3\\envs\\dev\\lib\\site-packages (from nltk) (4.66.2)\n",
            "Requirement already satisfied: altair<6,>=4.0 in c:\\users\\enimi\\anaconda3\\envs\\dev\\lib\\site-packages (from streamlit) (5.0.1)\n",
            "Requirement already satisfied: blinker<2,>=1.0.0 in c:\\users\\enimi\\anaconda3\\envs\\dev\\lib\\site-packages (from streamlit) (1.6.2)\n",
            "Requirement already satisfied: cachetools<6,>=4.0 in c:\\users\\enimi\\anaconda3\\envs\\dev\\lib\\site-packages (from streamlit) (5.3.3)\n",
            "Requirement already satisfied: packaging<24,>=16.8 in c:\\users\\enimi\\anaconda3\\envs\\dev\\lib\\site-packages (from streamlit) (23.2)\n",
            "Requirement already satisfied: pillow<11,>=7.1.0 in c:\\users\\enimi\\anaconda3\\envs\\dev\\lib\\site-packages (from streamlit) (10.3.0)\n",
            "Requirement already satisfied: protobuf<5,>=3.20 in c:\\users\\enimi\\anaconda3\\envs\\dev\\lib\\site-packages (from streamlit) (3.20.3)\n",
            "Requirement already satisfied: pyarrow>=7.0 in c:\\users\\enimi\\anaconda3\\envs\\dev\\lib\\site-packages (from streamlit) (14.0.2)\n",
            "Requirement already satisfied: requests<3,>=2.27 in c:\\users\\enimi\\anaconda3\\envs\\dev\\lib\\site-packages (from streamlit) (2.31.0)\n",
            "Requirement already satisfied: rich<14,>=10.14.0 in c:\\users\\enimi\\anaconda3\\envs\\dev\\lib\\site-packages (from streamlit) (13.3.5)\n",
            "Requirement already satisfied: tenacity<9,>=8.1.0 in c:\\users\\enimi\\anaconda3\\envs\\dev\\lib\\site-packages (from streamlit) (8.2.2)\n",
            "Requirement already satisfied: toml<2,>=0.10.1 in c:\\users\\enimi\\anaconda3\\envs\\dev\\lib\\site-packages (from streamlit) (0.10.2)\n",
            "Requirement already satisfied: typing-extensions<5,>=4.3.0 in c:\\users\\enimi\\anaconda3\\envs\\dev\\lib\\site-packages (from streamlit) (4.9.0)\n",
            "Requirement already satisfied: gitpython!=3.1.19,<4,>=3.0.7 in c:\\users\\enimi\\anaconda3\\envs\\dev\\lib\\site-packages (from streamlit) (3.1.37)\n",
            "Requirement already satisfied: pydeck<1,>=0.8.0b4 in c:\\users\\enimi\\anaconda3\\envs\\dev\\lib\\site-packages (from streamlit) (0.8.0)\n",
            "Requirement already satisfied: tornado<7,>=6.0.3 in c:\\users\\enimi\\anaconda3\\envs\\dev\\lib\\site-packages (from streamlit) (6.3.3)\n",
            "Requirement already satisfied: watchdog>=2.1.5 in c:\\users\\enimi\\anaconda3\\envs\\dev\\lib\\site-packages (from streamlit) (2.1.6)\n",
            "Requirement already satisfied: jinja2 in c:\\users\\enimi\\anaconda3\\envs\\dev\\lib\\site-packages (from altair<6,>=4.0->streamlit) (3.1.3)\n",
            "Requirement already satisfied: jsonschema>=3.0 in c:\\users\\enimi\\anaconda3\\envs\\dev\\lib\\site-packages (from altair<6,>=4.0->streamlit) (4.19.2)\n",
            "Requirement already satisfied: toolz in c:\\users\\enimi\\anaconda3\\envs\\dev\\lib\\site-packages (from altair<6,>=4.0->streamlit) (0.12.0)\n",
            "Requirement already satisfied: colorama in c:\\users\\enimi\\anaconda3\\envs\\dev\\lib\\site-packages (from click->nltk) (0.4.6)\n",
            "Requirement already satisfied: gitdb<5,>=4.0.1 in c:\\users\\enimi\\anaconda3\\envs\\dev\\lib\\site-packages (from gitpython!=3.1.19,<4,>=3.0.7->streamlit) (4.0.7)\n",
            "Requirement already satisfied: six>=1.5 in c:\\users\\enimi\\anaconda3\\envs\\dev\\lib\\site-packages (from python-dateutil>=2.8.2->pandas) (1.16.0)\n",
            "Requirement already satisfied: charset-normalizer<4,>=2 in c:\\users\\enimi\\anaconda3\\envs\\dev\\lib\\site-packages (from requests<3,>=2.27->streamlit) (2.0.4)\n",
            "Requirement already satisfied: idna<4,>=2.5 in c:\\users\\enimi\\anaconda3\\envs\\dev\\lib\\site-packages (from requests<3,>=2.27->streamlit) (3.7)\n",
            "Requirement already satisfied: urllib3<3,>=1.21.1 in c:\\users\\enimi\\anaconda3\\envs\\dev\\lib\\site-packages (from requests<3,>=2.27->streamlit) (2.1.0)\n",
            "Requirement already satisfied: certifi>=2017.4.17 in c:\\users\\enimi\\anaconda3\\envs\\dev\\lib\\site-packages (from requests<3,>=2.27->streamlit) (2024.2.2)\n",
            "Requirement already satisfied: markdown-it-py<3.0.0,>=2.2.0 in c:\\users\\enimi\\anaconda3\\envs\\dev\\lib\\site-packages (from rich<14,>=10.14.0->streamlit) (2.2.0)\n",
            "Requirement already satisfied: pygments<3.0.0,>=2.13.0 in c:\\users\\enimi\\anaconda3\\envs\\dev\\lib\\site-packages (from rich<14,>=10.14.0->streamlit) (2.15.1)\n",
            "Requirement already satisfied: smmap<5,>=3.0.1 in c:\\users\\enimi\\anaconda3\\envs\\dev\\lib\\site-packages (from gitdb<5,>=4.0.1->gitpython!=3.1.19,<4,>=3.0.7->streamlit) (4.0.0)\n",
            "Requirement already satisfied: MarkupSafe>=2.0 in c:\\users\\enimi\\anaconda3\\envs\\dev\\lib\\site-packages (from jinja2->altair<6,>=4.0->streamlit) (2.1.3)\n",
            "Requirement already satisfied: attrs>=22.2.0 in c:\\users\\enimi\\anaconda3\\envs\\dev\\lib\\site-packages (from jsonschema>=3.0->altair<6,>=4.0->streamlit) (23.1.0)\n",
            "Requirement already satisfied: jsonschema-specifications>=2023.03.6 in c:\\users\\enimi\\anaconda3\\envs\\dev\\lib\\site-packages (from jsonschema>=3.0->altair<6,>=4.0->streamlit) (2023.7.1)\n",
            "Requirement already satisfied: referencing>=0.28.4 in c:\\users\\enimi\\anaconda3\\envs\\dev\\lib\\site-packages (from jsonschema>=3.0->altair<6,>=4.0->streamlit) (0.30.2)\n",
            "Requirement already satisfied: rpds-py>=0.7.1 in c:\\users\\enimi\\anaconda3\\envs\\dev\\lib\\site-packages (from jsonschema>=3.0->altair<6,>=4.0->streamlit) (0.10.6)\n",
            "Requirement already satisfied: mdurl~=0.1 in c:\\users\\enimi\\anaconda3\\envs\\dev\\lib\\site-packages (from markdown-it-py<3.0.0,>=2.2.0->rich<14,>=10.14.0->streamlit) (0.1.0)\n"
          ]
        }
      ],
      "source": [
        "!pip install scikit-learn pandas nltk streamlit imbalanced-learn"
      ]
    },
    {
      "cell_type": "code",
      "execution_count": 2,
      "metadata": {
        "colab": {
          "base_uri": "https://localhost:8080/"
        },
        "id": "M46Z-_-rTNK-",
        "outputId": "cbe2c456-aba4-47f5-a910-263fe3c9f19a"
      },
      "outputs": [
        {
          "name": "stderr",
          "output_type": "stream",
          "text": [
            "[nltk_data] Downloading package stopwords to\n",
            "[nltk_data]     C:\\Users\\enimi\\AppData\\Roaming\\nltk_data...\n",
            "[nltk_data]   Package stopwords is already up-to-date!\n",
            "[nltk_data] Downloading package wordnet to\n",
            "[nltk_data]     C:\\Users\\enimi\\AppData\\Roaming\\nltk_data...\n",
            "[nltk_data]   Package wordnet is already up-to-date!\n"
          ]
        },
        {
          "data": {
            "text/plain": [
              "True"
            ]
          },
          "execution_count": 2,
          "metadata": {},
          "output_type": "execute_result"
        }
      ],
      "source": [
        "import pandas as pd\n",
        "import nltk\n",
        "from nltk.corpus import stopwords\n",
        "from nltk.stem import WordNetLemmatizer\n",
        "from sklearn.model_selection import train_test_split\n",
        "from sklearn.feature_extraction.text import TfidfVectorizer\n",
        "from sklearn.linear_model import LogisticRegression\n",
        "from sklearn.naive_bayes import MultinomialNB\n",
        "from sklearn.svm import SVC\n",
        "from sklearn.metrics import accuracy_score, classification_report, confusion_matrix\n",
        "from imblearn.over_sampling import SMOTE\n",
        "import streamlit as st\n",
        "import preprocess\n",
        "import pickle\n",
        "from joblib import load\n",
        "import joblib\n",
        "\n",
        "# Download NLTK resources\n",
        "nltk.download('stopwords')\n",
        "nltk.download('wordnet')\n",
        "\n",
        "\n"
      ]
    },
    {
      "cell_type": "code",
      "execution_count": 3,
      "metadata": {
        "id": "Hcd3dITrVpE-"
      },
      "outputs": [],
      "source": [
        "# Loading the dataset\n",
        "data = pd.read_csv('stock_sentiment.csv', encoding = 'ISO-8859-1')"
      ]
    },
    {
      "cell_type": "markdown",
      "metadata": {
        "id": "rmqcFmeow8ZQ"
      },
      "source": [
        "# Exploring the dataset"
      ]
    },
    {
      "cell_type": "code",
      "execution_count": 4,
      "metadata": {
        "colab": {
          "base_uri": "https://localhost:8080/"
        },
        "id": "xWIcVjd9xAic",
        "outputId": "563cf470-5e32-4076-b23b-903eeefcaea2"
      },
      "outputs": [
        {
          "data": {
            "text/plain": [
              "Index(['Text', 'Sentiment'], dtype='object')"
            ]
          },
          "execution_count": 4,
          "metadata": {},
          "output_type": "execute_result"
        }
      ],
      "source": [
        "data.columns"
      ]
    },
    {
      "cell_type": "code",
      "execution_count": 5,
      "metadata": {
        "colab": {
          "base_uri": "https://localhost:8080/"
        },
        "id": "0UhQe8BqxEL7",
        "outputId": "1f44fa68-0d0c-4349-b22a-dfe55a3015b5"
      },
      "outputs": [
        {
          "data": {
            "text/plain": [
              "(5791, 2)"
            ]
          },
          "execution_count": 5,
          "metadata": {},
          "output_type": "execute_result"
        }
      ],
      "source": [
        "data.shape"
      ]
    },
    {
      "cell_type": "code",
      "execution_count": 6,
      "metadata": {
        "colab": {
          "base_uri": "https://localhost:8080/",
          "height": 206
        },
        "id": "wm6KjF9txI1l",
        "outputId": "072121ee-7ad3-4145-8b63-9f18ff94ae98"
      },
      "outputs": [
        {
          "data": {
            "text/html": [
              "<div>\n",
              "<style scoped>\n",
              "    .dataframe tbody tr th:only-of-type {\n",
              "        vertical-align: middle;\n",
              "    }\n",
              "\n",
              "    .dataframe tbody tr th {\n",
              "        vertical-align: top;\n",
              "    }\n",
              "\n",
              "    .dataframe thead th {\n",
              "        text-align: right;\n",
              "    }\n",
              "</style>\n",
              "<table border=\"1\" class=\"dataframe\">\n",
              "  <thead>\n",
              "    <tr style=\"text-align: right;\">\n",
              "      <th></th>\n",
              "      <th>Text</th>\n",
              "      <th>Sentiment</th>\n",
              "    </tr>\n",
              "  </thead>\n",
              "  <tbody>\n",
              "    <tr>\n",
              "      <th>0</th>\n",
              "      <td>Kickers on my watchlist XIDE TIT SOQ PNK CPW B...</td>\n",
              "      <td>1</td>\n",
              "    </tr>\n",
              "    <tr>\n",
              "      <th>1</th>\n",
              "      <td>user: AAP MOVIE. 55% return for the FEA/GEED i...</td>\n",
              "      <td>1</td>\n",
              "    </tr>\n",
              "    <tr>\n",
              "      <th>2</th>\n",
              "      <td>user I'd be afraid to short AMZN - they are lo...</td>\n",
              "      <td>1</td>\n",
              "    </tr>\n",
              "    <tr>\n",
              "      <th>3</th>\n",
              "      <td>MNTA Over 12.00</td>\n",
              "      <td>1</td>\n",
              "    </tr>\n",
              "    <tr>\n",
              "      <th>4</th>\n",
              "      <td>OI  Over 21.37</td>\n",
              "      <td>1</td>\n",
              "    </tr>\n",
              "  </tbody>\n",
              "</table>\n",
              "</div>"
            ],
            "text/plain": [
              "                                                Text  Sentiment\n",
              "0  Kickers on my watchlist XIDE TIT SOQ PNK CPW B...          1\n",
              "1  user: AAP MOVIE. 55% return for the FEA/GEED i...          1\n",
              "2  user I'd be afraid to short AMZN - they are lo...          1\n",
              "3                                  MNTA Over 12.00            1\n",
              "4                                   OI  Over 21.37            1"
            ]
          },
          "execution_count": 6,
          "metadata": {},
          "output_type": "execute_result"
        }
      ],
      "source": [
        "data.head(5)"
      ]
    },
    {
      "cell_type": "markdown",
      "metadata": {
        "id": "PSCIlH17rS3B"
      },
      "source": [
        "# **Sentiment Distribution Visualization:**\n",
        "*   **Group and count sentiment values.**"
      ]
    },
    {
      "cell_type": "code",
      "execution_count": 7,
      "metadata": {
        "colab": {
          "base_uri": "https://localhost:8080/",
          "height": 112
        },
        "id": "WinPjWdv34jj",
        "outputId": "415764dd-c07e-4b7b-a263-eff6b62b772e"
      },
      "outputs": [
        {
          "data": {
            "text/html": [
              "<style type=\"text/css\">\n",
              "#T_2730b_row0_col0, #T_2730b_row0_col1 {\n",
              "  background-color: #3f007d;\n",
              "  color: #f1f1f1;\n",
              "}\n",
              "#T_2730b_row1_col0, #T_2730b_row1_col1 {\n",
              "  background-color: #fcfbfd;\n",
              "  color: #000000;\n",
              "}\n",
              "</style>\n",
              "<table id=\"T_2730b\">\n",
              "  <thead>\n",
              "    <tr>\n",
              "      <th class=\"blank level0\" >&nbsp;</th>\n",
              "      <th id=\"T_2730b_level0_col0\" class=\"col_heading level0 col0\" >Sentiment</th>\n",
              "      <th id=\"T_2730b_level0_col1\" class=\"col_heading level0 col1\" >Text</th>\n",
              "    </tr>\n",
              "  </thead>\n",
              "  <tbody>\n",
              "    <tr>\n",
              "      <th id=\"T_2730b_level0_row0\" class=\"row_heading level0 row0\" >1</th>\n",
              "      <td id=\"T_2730b_row0_col0\" class=\"data row0 col0\" >1</td>\n",
              "      <td id=\"T_2730b_row0_col1\" class=\"data row0 col1\" >3685</td>\n",
              "    </tr>\n",
              "    <tr>\n",
              "      <th id=\"T_2730b_level0_row1\" class=\"row_heading level0 row1\" >0</th>\n",
              "      <td id=\"T_2730b_row1_col0\" class=\"data row1 col0\" >0</td>\n",
              "      <td id=\"T_2730b_row1_col1\" class=\"data row1 col1\" >2106</td>\n",
              "    </tr>\n",
              "  </tbody>\n",
              "</table>\n"
            ],
            "text/plain": [
              "<pandas.io.formats.style.Styler at 0x20a7f30da20>"
            ]
          },
          "execution_count": 7,
          "metadata": {},
          "output_type": "execute_result"
        }
      ],
      "source": [
        "# Group the data by sentiment and count the number of entries for each sentiment\n",
        "temp = data.groupby('Sentiment').count()['Text'].reset_index().sort_values(by='Text', ascending=False)\n",
        "\n",
        "# Apply background gradient styling to the 'temp' DataFrame\n",
        "styled_temp = temp.style.background_gradient(cmap='Purples')\n",
        "styled_temp"
      ]
    },
    {
      "cell_type": "markdown",
      "metadata": {
        "id": "AO_frBmW4Y0o"
      },
      "source": [
        "*   **Visualize sentiment distribution using a Funnel-Chart.**"
      ]
    },
    {
      "cell_type": "code",
      "execution_count": 8,
      "metadata": {
        "colab": {
          "base_uri": "https://localhost:8080/",
          "height": 542
        },
        "id": "3dI3Xlxh4k-r",
        "outputId": "6097f39b-7879-49e2-fe66-0aff6bddf545"
      },
      "outputs": [
        {
          "data": {
            "application/vnd.plotly.v1+json": {
              "config": {
                "plotlyServerURL": "https://plot.ly"
              },
              "data": [
                {
                  "text": [
                    1,
                    0
                  ],
                  "title": {
                    "position": "top center",
                    "text": "Funnel-Chart of Sentiment Distribution"
                  },
                  "type": "funnelarea",
                  "values": [
                    3685,
                    2106
                  ]
                }
              ],
              "layout": {
                "template": {
                  "data": {
                    "candlestick": [
                      {
                        "decreasing": {
                          "line": {
                            "color": "#000033"
                          }
                        },
                        "increasing": {
                          "line": {
                            "color": "#000032"
                          }
                        },
                        "type": "candlestick"
                      }
                    ],
                    "contour": [
                      {
                        "colorscale": [
                          [
                            0,
                            "#000011"
                          ],
                          [
                            0.1111111111111111,
                            "#000012"
                          ],
                          [
                            0.2222222222222222,
                            "#000013"
                          ],
                          [
                            0.3333333333333333,
                            "#000014"
                          ],
                          [
                            0.4444444444444444,
                            "#000015"
                          ],
                          [
                            0.5555555555555556,
                            "#000016"
                          ],
                          [
                            0.6666666666666666,
                            "#000017"
                          ],
                          [
                            0.7777777777777778,
                            "#000018"
                          ],
                          [
                            0.8888888888888888,
                            "#000019"
                          ],
                          [
                            1,
                            "#000020"
                          ]
                        ],
                        "type": "contour"
                      }
                    ],
                    "contourcarpet": [
                      {
                        "colorscale": [
                          [
                            0,
                            "#000011"
                          ],
                          [
                            0.1111111111111111,
                            "#000012"
                          ],
                          [
                            0.2222222222222222,
                            "#000013"
                          ],
                          [
                            0.3333333333333333,
                            "#000014"
                          ],
                          [
                            0.4444444444444444,
                            "#000015"
                          ],
                          [
                            0.5555555555555556,
                            "#000016"
                          ],
                          [
                            0.6666666666666666,
                            "#000017"
                          ],
                          [
                            0.7777777777777778,
                            "#000018"
                          ],
                          [
                            0.8888888888888888,
                            "#000019"
                          ],
                          [
                            1,
                            "#000020"
                          ]
                        ],
                        "type": "contourcarpet"
                      }
                    ],
                    "heatmap": [
                      {
                        "colorscale": [
                          [
                            0,
                            "#000011"
                          ],
                          [
                            0.1111111111111111,
                            "#000012"
                          ],
                          [
                            0.2222222222222222,
                            "#000013"
                          ],
                          [
                            0.3333333333333333,
                            "#000014"
                          ],
                          [
                            0.4444444444444444,
                            "#000015"
                          ],
                          [
                            0.5555555555555556,
                            "#000016"
                          ],
                          [
                            0.6666666666666666,
                            "#000017"
                          ],
                          [
                            0.7777777777777778,
                            "#000018"
                          ],
                          [
                            0.8888888888888888,
                            "#000019"
                          ],
                          [
                            1,
                            "#000020"
                          ]
                        ],
                        "type": "heatmap"
                      }
                    ],
                    "histogram2d": [
                      {
                        "colorscale": [
                          [
                            0,
                            "#000011"
                          ],
                          [
                            0.1111111111111111,
                            "#000012"
                          ],
                          [
                            0.2222222222222222,
                            "#000013"
                          ],
                          [
                            0.3333333333333333,
                            "#000014"
                          ],
                          [
                            0.4444444444444444,
                            "#000015"
                          ],
                          [
                            0.5555555555555556,
                            "#000016"
                          ],
                          [
                            0.6666666666666666,
                            "#000017"
                          ],
                          [
                            0.7777777777777778,
                            "#000018"
                          ],
                          [
                            0.8888888888888888,
                            "#000019"
                          ],
                          [
                            1,
                            "#000020"
                          ]
                        ],
                        "type": "histogram2d"
                      }
                    ],
                    "icicle": [
                      {
                        "textfont": {
                          "color": "white"
                        },
                        "type": "icicle"
                      }
                    ],
                    "sankey": [
                      {
                        "textfont": {
                          "color": "#000036"
                        },
                        "type": "sankey"
                      }
                    ],
                    "scatter": [
                      {
                        "marker": {
                          "line": {
                            "width": 0
                          }
                        },
                        "type": "scatter"
                      }
                    ],
                    "table": [
                      {
                        "cells": {
                          "fill": {
                            "color": "#000038"
                          },
                          "font": {
                            "color": "#000037"
                          },
                          "line": {
                            "color": "#000039"
                          }
                        },
                        "header": {
                          "fill": {
                            "color": "#000040"
                          },
                          "font": {
                            "color": "#000036"
                          },
                          "line": {
                            "color": "#000039"
                          }
                        },
                        "type": "table"
                      }
                    ],
                    "waterfall": [
                      {
                        "connector": {
                          "line": {
                            "color": "#000036",
                            "width": 2
                          }
                        },
                        "decreasing": {
                          "marker": {
                            "color": "#000033"
                          }
                        },
                        "increasing": {
                          "marker": {
                            "color": "#000032"
                          }
                        },
                        "totals": {
                          "marker": {
                            "color": "#000034"
                          }
                        },
                        "type": "waterfall"
                      }
                    ]
                  },
                  "layout": {
                    "coloraxis": {
                      "colorscale": [
                        [
                          0,
                          "#000011"
                        ],
                        [
                          0.1111111111111111,
                          "#000012"
                        ],
                        [
                          0.2222222222222222,
                          "#000013"
                        ],
                        [
                          0.3333333333333333,
                          "#000014"
                        ],
                        [
                          0.4444444444444444,
                          "#000015"
                        ],
                        [
                          0.5555555555555556,
                          "#000016"
                        ],
                        [
                          0.6666666666666666,
                          "#000017"
                        ],
                        [
                          0.7777777777777778,
                          "#000018"
                        ],
                        [
                          0.8888888888888888,
                          "#000019"
                        ],
                        [
                          1,
                          "#000020"
                        ]
                      ]
                    },
                    "colorscale": {
                      "diverging": [
                        [
                          0,
                          "#000021"
                        ],
                        [
                          0.1,
                          "#000022"
                        ],
                        [
                          0.2,
                          "#000023"
                        ],
                        [
                          0.3,
                          "#000024"
                        ],
                        [
                          0.4,
                          "#000025"
                        ],
                        [
                          0.5,
                          "#000026"
                        ],
                        [
                          0.6,
                          "#000027"
                        ],
                        [
                          0.7,
                          "#000028"
                        ],
                        [
                          0.8,
                          "#000029"
                        ],
                        [
                          0.9,
                          "#000030"
                        ],
                        [
                          1,
                          "#000031"
                        ]
                      ],
                      "sequential": [
                        [
                          0,
                          "#000011"
                        ],
                        [
                          0.1111111111111111,
                          "#000012"
                        ],
                        [
                          0.2222222222222222,
                          "#000013"
                        ],
                        [
                          0.3333333333333333,
                          "#000014"
                        ],
                        [
                          0.4444444444444444,
                          "#000015"
                        ],
                        [
                          0.5555555555555556,
                          "#000016"
                        ],
                        [
                          0.6666666666666666,
                          "#000017"
                        ],
                        [
                          0.7777777777777778,
                          "#000018"
                        ],
                        [
                          0.8888888888888888,
                          "#000019"
                        ],
                        [
                          1,
                          "#000020"
                        ]
                      ],
                      "sequentialminus": [
                        [
                          0,
                          "#000011"
                        ],
                        [
                          0.1111111111111111,
                          "#000012"
                        ],
                        [
                          0.2222222222222222,
                          "#000013"
                        ],
                        [
                          0.3333333333333333,
                          "#000014"
                        ],
                        [
                          0.4444444444444444,
                          "#000015"
                        ],
                        [
                          0.5555555555555556,
                          "#000016"
                        ],
                        [
                          0.6666666666666666,
                          "#000017"
                        ],
                        [
                          0.7777777777777778,
                          "#000018"
                        ],
                        [
                          0.8888888888888888,
                          "#000019"
                        ],
                        [
                          1,
                          "#000020"
                        ]
                      ]
                    },
                    "colorway": [
                      "#000001",
                      "#000002",
                      "#000003",
                      "#000004",
                      "#000005",
                      "#000006",
                      "#000007",
                      "#000008",
                      "#000009",
                      "#000010"
                    ]
                  }
                }
              }
            }
          },
          "metadata": {},
          "output_type": "display_data"
        }
      ],
      "source": [
        "# Create a Funnel-Chart using Plotly to visualize sentiment distribution\n",
        "from plotly import graph_objs as go\n",
        "fig = go.Figure(go.Funnelarea(\n",
        "    text=temp.Sentiment,\n",
        "    values=temp.Text,\n",
        "    title={\"position\": \"top center\", \"text\": \"Funnel-Chart of Sentiment Distribution\"}\n",
        "))\n",
        "# Show the Funnel-Chart using the specified renderer\n",
        "fig.show()"
      ]
    },
    {
      "cell_type": "markdown",
      "metadata": {
        "id": "MVmnIZ0UxaJF"
      },
      "source": [
        "# **Data Cleaning and Preprocessing**"
      ]
    },
    {
      "cell_type": "code",
      "execution_count": 9,
      "metadata": {
        "colab": {
          "base_uri": "https://localhost:8080/",
          "height": 146
        },
        "id": "-JWsd2FAxchG",
        "outputId": "366324ad-41fa-4d2f-a025-ed2f01d841b6"
      },
      "outputs": [
        {
          "data": {
            "text/plain": [
              "Text         False\n",
              "Sentiment    False\n",
              "dtype: bool"
            ]
          },
          "execution_count": 9,
          "metadata": {},
          "output_type": "execute_result"
        }
      ],
      "source": [
        "# Finding any NaN values\n",
        "data.isna().any()"
      ]
    },
    {
      "cell_type": "code",
      "execution_count": 10,
      "metadata": {
        "colab": {
          "base_uri": "https://localhost:8080/",
          "height": 423
        },
        "id": "5cKAfrbAqwvT",
        "outputId": "9d7884e8-6d2c-4272-c633-5ecbb204800a"
      },
      "outputs": [
        {
          "name": "stderr",
          "output_type": "stream",
          "text": [
            "c:\\Users\\enimi\\anaconda3\\envs\\dev\\lib\\site-packages\\pandas\\core\\strings\\object_array.py:172: FutureWarning:\n",
            "\n",
            "Possible nested set at position 1\n",
            "\n"
          ]
        },
        {
          "data": {
            "text/html": [
              "<div>\n",
              "<style scoped>\n",
              "    .dataframe tbody tr th:only-of-type {\n",
              "        vertical-align: middle;\n",
              "    }\n",
              "\n",
              "    .dataframe tbody tr th {\n",
              "        vertical-align: top;\n",
              "    }\n",
              "\n",
              "    .dataframe thead th {\n",
              "        text-align: right;\n",
              "    }\n",
              "</style>\n",
              "<table border=\"1\" class=\"dataframe\">\n",
              "  <thead>\n",
              "    <tr style=\"text-align: right;\">\n",
              "      <th></th>\n",
              "      <th>Text</th>\n",
              "      <th>Sentiment</th>\n",
              "      <th>Text_Cleaned</th>\n",
              "    </tr>\n",
              "  </thead>\n",
              "  <tbody>\n",
              "    <tr>\n",
              "      <th>0</th>\n",
              "      <td>Kickers on my watchlist XIDE TIT SOQ PNK CPW B...</td>\n",
              "      <td>1</td>\n",
              "      <td>kickers on my watchlist xide tit soq pnk cpw b...</td>\n",
              "    </tr>\n",
              "    <tr>\n",
              "      <th>1</th>\n",
              "      <td>user: AAP MOVIE. 55% return for the FEA/GEED i...</td>\n",
              "      <td>1</td>\n",
              "      <td>aap movie 55 percent return for the fea and ge...</td>\n",
              "    </tr>\n",
              "    <tr>\n",
              "      <th>2</th>\n",
              "      <td>user I'd be afraid to short AMZN - they are lo...</td>\n",
              "      <td>1</td>\n",
              "      <td>id be afraid to short amzn to they are looking...</td>\n",
              "    </tr>\n",
              "    <tr>\n",
              "      <th>3</th>\n",
              "      <td>MNTA Over 12.00</td>\n",
              "      <td>1</td>\n",
              "      <td>mnta over 12.00</td>\n",
              "    </tr>\n",
              "    <tr>\n",
              "      <th>4</th>\n",
              "      <td>OI  Over 21.37</td>\n",
              "      <td>1</td>\n",
              "      <td>oi over 21.37</td>\n",
              "    </tr>\n",
              "    <tr>\n",
              "      <th>...</th>\n",
              "      <td>...</td>\n",
              "      <td>...</td>\n",
              "      <td>...</td>\n",
              "    </tr>\n",
              "    <tr>\n",
              "      <th>5786</th>\n",
              "      <td>Industry body CII said #discoms are likely to ...</td>\n",
              "      <td>0</td>\n",
              "      <td>industry body cii said are likely to suffer a ...</td>\n",
              "    </tr>\n",
              "    <tr>\n",
              "      <th>5787</th>\n",
              "      <td>#Gold prices slip below Rs 46,000 as #investor...</td>\n",
              "      <td>0</td>\n",
              "      <td>prices slip below rs 46000 as book profits ami...</td>\n",
              "    </tr>\n",
              "    <tr>\n",
              "      <th>5788</th>\n",
              "      <td>Workers at Bajaj Auto have agreed to a 10% wag...</td>\n",
              "      <td>1</td>\n",
              "      <td>workers at bajaj auto have agreed to a 10 perc...</td>\n",
              "    </tr>\n",
              "    <tr>\n",
              "      <th>5789</th>\n",
              "      <td>#Sharemarket LIVE: Sensex off dayâs high, up...</td>\n",
              "      <td>1</td>\n",
              "      <td>live sensex off days high up 600 points test...</td>\n",
              "    </tr>\n",
              "    <tr>\n",
              "      <th>5790</th>\n",
              "      <td>#Sensex, #Nifty climb off day's highs, still u...</td>\n",
              "      <td>1</td>\n",
              "      <td>climb off days highs still up 2 percent key fa...</td>\n",
              "    </tr>\n",
              "  </tbody>\n",
              "</table>\n",
              "<p>5791 rows × 3 columns</p>\n",
              "</div>"
            ],
            "text/plain": [
              "                                                   Text  Sentiment  \\\n",
              "0     Kickers on my watchlist XIDE TIT SOQ PNK CPW B...          1   \n",
              "1     user: AAP MOVIE. 55% return for the FEA/GEED i...          1   \n",
              "2     user I'd be afraid to short AMZN - they are lo...          1   \n",
              "3                                     MNTA Over 12.00            1   \n",
              "4                                      OI  Over 21.37            1   \n",
              "...                                                 ...        ...   \n",
              "5786  Industry body CII said #discoms are likely to ...          0   \n",
              "5787  #Gold prices slip below Rs 46,000 as #investor...          0   \n",
              "5788  Workers at Bajaj Auto have agreed to a 10% wag...          1   \n",
              "5789  #Sharemarket LIVE: Sensex off dayâs high, up...          1   \n",
              "5790  #Sensex, #Nifty climb off day's highs, still u...          1   \n",
              "\n",
              "                                           Text_Cleaned  \n",
              "0     kickers on my watchlist xide tit soq pnk cpw b...  \n",
              "1     aap movie 55 percent return for the fea and ge...  \n",
              "2     id be afraid to short amzn to they are looking...  \n",
              "3                                       mnta over 12.00  \n",
              "4                                         oi over 21.37  \n",
              "...                                                 ...  \n",
              "5786  industry body cii said are likely to suffer a ...  \n",
              "5787  prices slip below rs 46000 as book profits ami...  \n",
              "5788  workers at bajaj auto have agreed to a 10 perc...  \n",
              "5789  live sensex off days high up 600 points test...  \n",
              "5790  climb off days highs still up 2 percent key fa...  \n",
              "\n",
              "[5791 rows x 3 columns]"
            ]
          },
          "metadata": {},
          "output_type": "display_data"
        }
      ],
      "source": [
        "# Preprocess tweets for NLP analysis\n",
        "data = preprocess.Preprocess_Tweets(data)\n",
        "display(data)"
      ]
    },
    {
      "cell_type": "code",
      "execution_count": 11,
      "metadata": {
        "id": "Jn8SQLgfUvXc"
      },
      "outputs": [],
      "source": [
        "# Preprocessing\n",
        "stop_words = set(stopwords.words('english'))\n",
        "lemmatizer = WordNetLemmatizer()\n",
        "\n",
        "def preprocess_text(text):\n",
        "    text = ' '.join([lemmatizer.lemmatize(word) for word in text.split() if word not in stop_words])\n",
        "    return text\n",
        "\n",
        "data['Processed_Text'] = data['Text_Cleaned'].apply(preprocess_text)\n",
        "\n"
      ]
    },
    {
      "cell_type": "code",
      "execution_count": 12,
      "metadata": {
        "colab": {
          "base_uri": "https://localhost:8080/"
        },
        "id": "noRknitaU41A",
        "outputId": "9de109b5-9216-4406-bcf8-24e6332fa6b0"
      },
      "outputs": [
        {
          "data": {
            "text/plain": [
              "['tfidf_vectorizer.joblib']"
            ]
          },
          "execution_count": 12,
          "metadata": {},
          "output_type": "execute_result"
        }
      ],
      "source": [
        "# Feature extraction\n",
        "vectorizer = TfidfVectorizer()\n",
        "X = vectorizer.fit_transform(data['Processed_Text'])\n",
        "y = data['Sentiment']\n",
        "# Save the fitted tfidf_vectorizer to a file\n",
        "joblib.dump(vectorizer, 'tfidf_vectorizer.joblib')\n",
        "\n"
      ]
    },
    {
      "cell_type": "code",
      "execution_count": 13,
      "metadata": {
        "id": "8YfZsXQDU-ac"
      },
      "outputs": [],
      "source": [
        "# Split the data\n",
        "X_train, X_test, y_train, y_test = train_test_split(X, y, test_size=0.2, random_state=42)\n",
        "\n",
        "# Balance the dataset using SMOTE\n",
        "smote = SMOTE(random_state=42)\n",
        "X_train_resampled, y_train_resampled = smote.fit_resample(X_train, y_train)\n",
        "\n"
      ]
    },
    {
      "cell_type": "code",
      "execution_count": 14,
      "metadata": {
        "colab": {
          "base_uri": "https://localhost:8080/"
        },
        "id": "0SupQnhpVG6C",
        "outputId": "96f44990-2272-4257-9075-52e2ebecb116"
      },
      "outputs": [
        {
          "name": "stdout",
          "output_type": "stream",
          "text": [
            "\n",
            "Model: Logistic Regression\n",
            "Confusion Matrix:\n",
            "[[296 131]\n",
            " [124 608]]\n",
            "Accuracy: 0.7799827437446074\n",
            "              precision    recall  f1-score   support\n",
            "\n",
            "           0       0.70      0.69      0.70       427\n",
            "           1       0.82      0.83      0.83       732\n",
            "\n",
            "    accuracy                           0.78      1159\n",
            "   macro avg       0.76      0.76      0.76      1159\n",
            "weighted avg       0.78      0.78      0.78      1159\n",
            "\n",
            "\n",
            "Model: Multinomial Naive Bayes\n",
            "Confusion Matrix:\n",
            "[[311 116]\n",
            " [173 559]]\n",
            "Accuracy: 0.7506471095772217\n",
            "              precision    recall  f1-score   support\n",
            "\n",
            "           0       0.64      0.73      0.68       427\n",
            "           1       0.83      0.76      0.79       732\n",
            "\n",
            "    accuracy                           0.75      1159\n",
            "   macro avg       0.74      0.75      0.74      1159\n",
            "weighted avg       0.76      0.75      0.75      1159\n",
            "\n",
            "\n",
            "Model: Support Vector Machine\n",
            "Confusion Matrix:\n",
            "[[225 202]\n",
            " [ 45 687]]\n",
            "Accuracy: 0.7868852459016393\n",
            "              precision    recall  f1-score   support\n",
            "\n",
            "           0       0.83      0.53      0.65       427\n",
            "           1       0.77      0.94      0.85       732\n",
            "\n",
            "    accuracy                           0.79      1159\n",
            "   macro avg       0.80      0.73      0.75      1159\n",
            "weighted avg       0.80      0.79      0.77      1159\n",
            "\n"
          ]
        }
      ],
      "source": [
        "# Train different classification models\n",
        "import joblib\n",
        "models = {\n",
        "    \"Logistic Regression\": LogisticRegression(),\n",
        "    \"Multinomial Naive Bayes\": MultinomialNB(),\n",
        "    \"Support Vector Machine\": SVC()\n",
        "}\n",
        "\n",
        "trained_models = {}\n",
        "Lonasvm=[]\n",
        "model_accuracy=[]\n",
        "for model_name, model in models.items():\n",
        "    model.fit(X_train_resampled, y_train_resampled)\n",
        "    trained_models[model_name] = model\n",
        "    Lonasvm.append(model_name)\n",
        "\n",
        "     # Make predictions\n",
        "    print(f\"\\nModel: {model_name}\")\n",
        "    y_pred = model.predict(X_test)\n",
        "\n",
        "     # Print evaluation metrics\n",
        "    print(\"Confusion Matrix:\")\n",
        "    print(confusion_matrix(y_test, y_pred))\n",
        "    print(f\"Accuracy: {accuracy_score(y_test, y_pred)}\")\n",
        "    model_accuracy.append(accuracy_score(y_test, y_pred)*100)\n",
        "    print(classification_report(y_test, y_pred))\n",
        "\n",
        "    # Save the model\n",
        "    joblib.dump(model, f\"{model_name.replace(' ', '_')}_model.pkl\")\n",
        "\n",
        "\n"
      ]
    },
    {
      "cell_type": "code",
      "execution_count": 15,
      "metadata": {},
      "outputs": [
        {
          "data": {
            "text/plain": [
              "[77.99827437446073, 75.06471095772217, 78.68852459016394]"
            ]
          },
          "execution_count": 15,
          "metadata": {},
          "output_type": "execute_result"
        }
      ],
      "source": [
        "Lonasvm\n",
        "model_accuracy"
      ]
    },
    {
      "cell_type": "code",
      "execution_count": 16,
      "metadata": {
        "colab": {
          "base_uri": "https://localhost:8080/"
        },
        "id": "yHZYNOleYwbd",
        "outputId": "386c3069-1e44-43c0-c161-796b65619e0e"
      },
      "outputs": [
        {
          "name": "stdout",
          "output_type": "stream",
          "text": [
            "Logistic Regression: Positive\n",
            "Multinomial Naive Bayes: Positive\n",
            "Support Vector Machine: Positive\n"
          ]
        }
      ],
      "source": [
        "user_input = input(\"Enter text:\")\n",
        "\n",
        "if user_input:\n",
        "    processed_input = preprocess_text(user_input)\n",
        "    input_features = vectorizer.transform([processed_input])\n",
        "\n",
        "    for model_name, model in trained_models.items():\n",
        "        prediction = model.predict(input_features)[0]\n",
        "        sentiment = \"Positive\" if prediction == 1 else \"Negative\"\n",
        "        print(f\"{model_name}: {sentiment}\")"
      ]
    },
    {
      "cell_type": "code",
      "execution_count": 17,
      "metadata": {},
      "outputs": [
        {
          "name": "stderr",
          "output_type": "stream",
          "text": [
            "c:\\Users\\enimi\\anaconda3\\envs\\dev\\lib\\site-packages\\seaborn\\_oldcore.py:1765: FutureWarning:\n",
            "\n",
            "unique with argument that is not not a Series, Index, ExtensionArray, or np.ndarray is deprecated and will raise in a future version.\n",
            "\n"
          ]
        },
        {
          "data": {
            "image/png": "[encoded data removed]",
            "text/plain": [
              "<Figure size 800x600 with 1 Axes>"
            ]
          },
          "metadata": {},
          "output_type": "display_data"
        }
      ],
      "source": [
        "import seaborn as sns\n",
        "import matplotlib.pyplot as plt\n",
        "%matplotlib inline\n",
        "\n",
        "# Data\n",
        "x = Lonasvm\n",
        "y = model_accuracy\n",
        "\n",
        "# Create a bar plot using seaborn\n",
        "plt.figure(figsize=(8, 6))\n",
        "sns.barplot(x=x, y=y)\n",
        "\n",
        "\n",
        "# Add labels and title\n",
        "plt.xlabel('Model Type')\n",
        "plt.ylabel('Accuracy (%)')\n",
        "plt.title('Model Accuracy Comparison')\n",
        "\n",
        "\n",
        "\n",
        "# Show the plot\n",
        "plt.show()"
      ]
    }
  ],
  "metadata": {
    "colab": {
      "provenance": []
    },
    "kernelspec": {
      "display_name": "dev",
      "language": "python",
      "name": "python3"
    },
    "language_info": {
      "codemirror_mode": {
        "name": "ipython",
        "version": 3
      },
      "file_extension": ".py",
      "mimetype": "text/x-python",
      "name": "python",
      "nbconvert_exporter": "python",
      "pygments_lexer": "ipython3",
      "version": "3.10.14"
    }
  },
  "nbformat": 4,
  "nbformat_minor": 0
}
